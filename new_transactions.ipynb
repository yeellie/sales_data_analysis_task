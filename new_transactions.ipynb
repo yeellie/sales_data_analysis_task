{
 "cells": [
  {
   "cell_type": "code",
   "execution_count": null,
   "metadata": {},
   "outputs": [
    {
     "ename": "",
     "evalue": "",
     "output_type": "error",
     "traceback": [
      "\u001b[1;31mThe kernel failed to start as the Python Environment 'venv' is no longer available. Consider selecting another kernel or refreshing the list of Python Environments."
     ]
    }
   ],
   "source": [
    "import pandas as pd\n",
    "import matplotlib.pyplot as plt\n",
    "\n",
    "# CSV file into a DataFrame\n",
    "df = pd.read_csv('./csv_data/new_transactions.csv', parse_dates=['transaction_create_date'])\n",
    "\n",
    "# Currency-to-Country Dictionary/Mapping\n",
    "currency_to_country = {\n",
    "    'HUF': 'Hungary',\n",
    "    'EUR': 'European Union',\n",
    "    'GBP': 'United Kingdom',\n",
    "    'USD': 'United States'}\n",
    "\n",
    "# Adding 'country' column based on the mapping\n",
    "df['country'] = df['transaction_currency'].map(currency_to_country)\n",
    "\n",
    "# Adding the currency prefix to the merchant name column\n",
    "df['merchant_id'] = df['transaction_currency'] + '_' + df['merchant_id'].astype(str)\n",
    "\n",
    "# Total sum of the transaction_total_amount column\n",
    "total_tpv = df['transaction_total_amount'].sum()\n",
    "print(\"Total TPV (Transaction Value):\", total_tpv)\n",
    "\n",
    "# Changing DataFrame to CSV with added prefixes\n",
    "df.to_csv('prefixed_transactions.csv', index=False)\n",
    "\n",
    "# TPV over time chart us below:\n",
    "\n",
    "# Group by Country and Week, summing up transaction_total_amount\n",
    "df['week'] = df['transaction_create_date'].dt.to_period('W').astype(str)\n",
    "grouped_df = df.groupby(['country', 'week']).agg({'transaction_total_amount': 'sum'}).reset_index()\n",
    "\n",
    "non_hun_data = grouped_df[grouped_df['country'] != 'Hungary']\n",
    "\n",
    "# Separate Hungary data\n",
    "hun_data = grouped_df[grouped_df['country'] == 'Hungary']\n",
    "\n",
    "# Plotting\n",
    "fig, ax1 = plt.subplots(figsize=(12, 6))\n",
    "\n",
    "# Plotting left y-axis for other countries\n",
    "for country, data in non_hun_data.groupby('country'):\n",
    "    ax1.plot(data['week'], data['transaction_total_amount'], label=country)\n",
    "\n",
    "ax1.set_title('Total Transaction Value (TPV) for Each Country Over Weeks')\n",
    "ax1.set_xlabel('Week')\n",
    "ax1.set_ylabel('Total Transaction Value (TPV) - Other Countries')\n",
    "ax1.legend(loc='upper left')\n",
    "\n",
    "# Customize x-axis ticks and labels\n",
    "xticks = grouped_df['week'].unique()[::4]\n",
    "ax1.set_xticks(xticks)\n",
    "ax1.tick_params(axis='x', rotation=45)\n",
    "\n",
    "# Creating y-axis for Hungary\n",
    "ax2 = ax1.twinx()\n",
    "ax2.plot(hun_data['week'], hun_data['transaction_total_amount'], label='Hungary', color='red')\n",
    "ax2.set_ylabel('Total Transaction Value (TPV) - Hungary')\n",
    "ax2.legend(loc='upper right')\n",
    "\n",
    "# Switch two y lines from scientific notation to normal numbers\n",
    "ax1.ticklabel_format(style='plain', axis='y')\n",
    "ax2.ticklabel_format(style='plain', axis='y')\n",
    "\n",
    "# Set y-axis limits for both axes\n",
    "ax1.set_ylim(0, max(non_hun_data['transaction_total_amount']) + 1000000)\n",
    "ax2.set_ylim(0, max(hun_data['transaction_total_amount']) + 10000000000)\n",
    "ax1.set_xlim(grouped_df['week'].min(), grouped_df['week'].max())\n",
    "\n",
    "plt.tight_layout()  # Adjust layout for better appearance\n",
    "plt.show()\n"
   ]
  }
 ],
 "metadata": {
  "kernelspec": {
   "display_name": "venv",
   "language": "python",
   "name": "python3"
  },
  "language_info": {
   "codemirror_mode": {
    "name": "ipython",
    "version": 3
   },
   "file_extension": ".py",
   "mimetype": "text/x-python",
   "name": "python",
   "nbconvert_exporter": "python",
   "pygments_lexer": "ipython3",
   "version": "3.12.1"
  }
 },
 "nbformat": 4,
 "nbformat_minor": 2
}
